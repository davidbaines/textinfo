{
 "cells": [
  {
   "cell_type": "code",
   "execution_count": 2,
   "metadata": {},
   "outputs": [
    {
     "name": "stdout",
     "output_type": "stream",
     "text": [
      "[WindowsPath('C:'), WindowsPath('D:'), WindowsPath('E:'), WindowsPath('F:')]\n"
     ]
    }
   ],
   "source": [
    "\"\"\" Find duplicated folder trees.  Originals and Backups.\"\"\"\n",
    "\n",
    "# import hashlib\n",
    "# import os\n",
    "# import pickle\n",
    "\n",
    "from pathlib import Path\n",
    "from pprint import pprint\n",
    "\n",
    "drives = ['C','D','E','F']\n",
    "drive_paths = [Path(f'{drive}:') for drive in drives]\n",
    "print(drive_paths)\n",
    "# Get a list of all folders that contain files. \n",
    "\n",
    "# Think about how to do this. It's not so simple.\n",
    "# Scan once for every file and store in a pickle - how big would that be?\n",
    "drive_path = drive_paths[0]\n",
    "\n",
    "# To scan \"C:\" this line takes about ?\n",
    "#non_empty_dirs = {str(p.parent) for p in drive_path.rglob('*') if p.is_file()}\n",
    "#print(non_empty_dirs)"
   ]
  },
  {
   "cell_type": "code",
   "execution_count": 7,
   "metadata": {},
   "outputs": [
    {
     "name": "stdout",
     "output_type": "stream",
     "text": [
      "[WindowsPath('C:Documents and Settings'), WindowsPath('C:Users')]\n",
      "[WindowsPath('C:Documents and Settings/David'), WindowsPath('C:Users/David')]\n"
     ]
    }
   ],
   "source": [
    "# Needs to include the idea of levels maybe?\n",
    "c_folders_to_include = {0: [\"Documents and Settings\", \"Users\"]}\n",
    "\n",
    "# Top level folders instead\n",
    "top_level_folders = [folder for folder in drive_path.iterdir() if folder.is_dir() and folder.name in c_folders_to_include[0]]\n",
    "\n",
    "#Result = [Number ** 2 for list in Numbers for Number in list if Number %2 == 0]\n",
    "second_level_folders = [folder for top_level_folder in top_level_folders for folder in top_level_folder.iterdir() if folder.is_dir() ]\n",
    "#and folder.name in c_folders_to_include[1]\n",
    "pprint(top_level_folders)\n",
    "\n",
    "second_level_folders = [Path('C:Documents and Settings/David'), Path('C:Users/David'),]\n",
    "pprint(second_level_folders)"
   ]
  },
  {
   "cell_type": "code",
   "execution_count": 4,
   "metadata": {},
   "outputs": [],
   "source": [
    "def next_level_folders(prev_folders):\n",
    "    return [folder for prev_folder in prev_folders for folder in prev_folder.iterdir() if folder.is_dir()]\n"
   ]
  },
  {
   "cell_type": "code",
   "execution_count": 13,
   "metadata": {},
   "outputs": [
    {
     "name": "stdout",
     "output_type": "stream",
     "text": [
      "[WindowsPath('C:Documents and Settings/David/3D Objects'),\n",
      " WindowsPath('C:Documents and Settings/David/Contacts'),\n",
      " WindowsPath('C:Documents and Settings/David/Creative Cloud Files'),\n",
      " WindowsPath('C:Documents and Settings/David/Desktop'),\n",
      " WindowsPath('C:Documents and Settings/David/Documents'),\n",
      " WindowsPath('C:Documents and Settings/David/Downloads'),\n",
      " WindowsPath('C:Documents and Settings/David/Favorites'),\n",
      " WindowsPath('C:Documents and Settings/David/Music'),\n",
      " WindowsPath('C:Documents and Settings/David/My Documents'),\n",
      " WindowsPath('C:Documents and Settings/David/Pictures'),\n",
      " WindowsPath('C:Documents and Settings/David/Software'),\n",
      " WindowsPath('C:Documents and Settings/David/Templates'),\n",
      " WindowsPath('C:Documents and Settings/David/Videos'),\n",
      " WindowsPath('C:Documents and Settings/David/Zotero'),\n",
      " WindowsPath('C:Users/David/3D Objects'),\n",
      " WindowsPath('C:Users/David/Contacts'),\n",
      " WindowsPath('C:Users/David/Creative Cloud Files'),\n",
      " WindowsPath('C:Users/David/Desktop'),\n",
      " WindowsPath('C:Users/David/Documents'),\n",
      " WindowsPath('C:Users/David/Downloads'),\n",
      " WindowsPath('C:Users/David/Favorites'),\n",
      " WindowsPath('C:Users/David/Music'),\n",
      " WindowsPath('C:Users/David/My Documents'),\n",
      " WindowsPath('C:Users/David/Pictures'),\n",
      " WindowsPath('C:Users/David/Software'),\n",
      " WindowsPath('C:Users/David/Templates'),\n",
      " WindowsPath('C:Users/David/Videos'),\n",
      " WindowsPath('C:Users/David/Zotero')]\n",
      "['3D Objects',\n",
      " 'Contacts',\n",
      " 'Creative Cloud Files',\n",
      " 'Desktop',\n",
      " 'Documents',\n",
      " 'Downloads',\n",
      " 'Favorites',\n",
      " 'Music',\n",
      " 'My Documents',\n",
      " 'Pictures',\n",
      " 'Software',\n",
      " 'Templates',\n",
      " 'Videos',\n",
      " 'Zotero',\n",
      " '3D Objects',\n",
      " 'Contacts',\n",
      " 'Creative Cloud Files',\n",
      " 'Desktop',\n",
      " 'Documents',\n",
      " 'Downloads',\n",
      " 'Favorites',\n",
      " 'Music',\n",
      " 'My Documents',\n",
      " 'Pictures',\n",
      " 'Software',\n",
      " 'Templates',\n",
      " 'Videos',\n",
      " 'Zotero']\n"
     ]
    }
   ],
   "source": [
    "third_level_folders = next_level_folders(second_level_folders)\n",
    "third_level_folders = [f for f in third_level_folders if f.name[0] != \".\"]\n",
    "\n",
    "omitnames = [\"anaconda3\", \"AppData\", \"Application Data\", \"Cookies\", \"Favourites\", \"Links\", \"Local Settings\", \"NetHood\", \"OneDrive\", \"PrintHood\", \"Recent\", \"Saved Games\", \"Searches\", \"SendTo\", \"Start Menu\"]\n",
    "third_level_folders = [f for f in third_level_folders if f.name not in omitnames]\n",
    "\n",
    "pprint(third_level_folders)\n",
    "pprint([f.name for f in third_level_folders])"
   ]
  }
 ],
 "metadata": {
  "kernelspec": {
   "display_name": "Python 3",
   "language": "python",
   "name": "python3"
  },
  "language_info": {
   "codemirror_mode": {
    "name": "ipython",
    "version": 3
   },
   "file_extension": ".py",
   "mimetype": "text/x-python",
   "name": "python",
   "nbconvert_exporter": "python",
   "pygments_lexer": "ipython3",
   "version": "3.10.5"
  },
  "orig_nbformat": 4,
  "vscode": {
   "interpreter": {
    "hash": "26de051ba29f2982a8de78e945f0abaf191376122a1563185a90213a26c5da77"
   }
  }
 },
 "nbformat": 4,
 "nbformat_minor": 2
}
